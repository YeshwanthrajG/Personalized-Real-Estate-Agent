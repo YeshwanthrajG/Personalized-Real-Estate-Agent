{
 "cells": [
  {
   "cell_type": "markdown",
   "id": "a108af04",
   "metadata": {},
   "source": [
    "This is a starter notebook for the project, you'll have to import the libraries you'll need, you can find a list of the ones available in this workspace in the requirements.txt file in this workspace. "
   ]
  },
  {
   "cell_type": "markdown",
   "id": "e110cb9c",
   "metadata": {},
   "source": [
    "# Building Generative AI Solutions\n",
    "##  - 🏠 A Personalized HomeMatch Real Estate Q&A System"
   ]
  },
  {
   "cell_type": "markdown",
   "id": "75ff0fbf",
   "metadata": {},
   "source": [
    "This notebook loads real estate listings, converts them into vector embeddings using OpenAI, and allows querying using natural language.\n",
    "\n",
    "It uses:\n",
    "- `real_estate_listings.csv` as data source.\n",
    "- OpenAI `text-embedding-ada-002` model.\n",
    "- `ChromaDB` for vector search.\n",
    "\n",
    "We'll answer questions like:\n",
    "- \"Which neighborhoods have 4-bedroom homes under $600,000?\"\n",
    "- \"Tell me about homes in Park Slope.\""
   ]
  },
  {
   "cell_type": "code",
   "execution_count": 1,
   "id": "28c17e4e",
   "metadata": {},
   "outputs": [],
   "source": [
    "import os\n",
    "import pandas as pd\n",
    "import openai\n",
    "import logging\n",
    "import chromadb\n",
    "from chromadb.utils import embedding_functions"
   ]
  },
  {
   "cell_type": "markdown",
   "id": "51605bfe",
   "metadata": {},
   "source": [
    "## 🔐 Step 1: Set up OpenAI API & Logging\n",
    "\n",
    "We define the API key and base URL (Vocareum-specific) and configure logging to track progress."
   ]
  },
  {
   "cell_type": "code",
   "execution_count": null,
   "id": "bded9e14",
   "metadata": {},
   "outputs": [
    {
     "name": "stderr",
     "output_type": "stream",
     "text": [
      "INFO:__main__:Starting the script.\n"
     ]
    }
   ],
   "source": [
    "# Vocareum OpenAI setup\n",
    "os.environ[\"OPENAI_API_KEY\"] = \"YOUR OPENAI API KEY\"\n",
    "os.environ[\"OPENAI_API_BASE\"] = \"YOUR OPENAI BASE\"\n",
    "openai.api_key = os.environ[\"OPENAI_API_KEY\"]\n",
    "openai.api_base = os.environ[\"OPENAI_API_BASE\"]\n",
    "\n",
    "# Logging setup\n",
    "logging.basicConfig(level=logging.INFO)\n",
    "logger = logging.getLogger(__name__)\n",
    "logger.info(\"Starting the script.\")"
   ]
  },
  {
   "cell_type": "markdown",
   "id": "f02de387",
   "metadata": {},
   "source": [
    "## Step 2: Load and Prepare Real Estate Listings\n",
    "\n",
    "We load the CSV and combine relevant columns into a searchable text format (`full_text`), which will be used for embedding."
   ]
  },
  {
   "cell_type": "code",
   "execution_count": 3,
   "id": "12e564ac",
   "metadata": {},
   "outputs": [
    {
     "data": {
      "text/html": [
       "<div>\n",
       "<style scoped>\n",
       "    .dataframe tbody tr th:only-of-type {\n",
       "        vertical-align: middle;\n",
       "    }\n",
       "\n",
       "    .dataframe tbody tr th {\n",
       "        vertical-align: top;\n",
       "    }\n",
       "\n",
       "    .dataframe thead th {\n",
       "        text-align: right;\n",
       "    }\n",
       "</style>\n",
       "<table border=\"1\" class=\"dataframe\">\n",
       "  <thead>\n",
       "    <tr style=\"text-align: right;\">\n",
       "      <th></th>\n",
       "      <th>Neighborhood</th>\n",
       "      <th>Price</th>\n",
       "      <th>Bedrooms</th>\n",
       "      <th>Bathrooms</th>\n",
       "      <th>House Size</th>\n",
       "      <th>full_text</th>\n",
       "    </tr>\n",
       "  </thead>\n",
       "  <tbody>\n",
       "    <tr>\n",
       "      <th>0</th>\n",
       "      <td>Pinecrest Estates</td>\n",
       "      <td>$550,000</td>\n",
       "      <td>4</td>\n",
       "      <td>3.0</td>\n",
       "      <td>2,500 sqft</td>\n",
       "      <td>Neighborhood: Pinecrest Estates\\nPrice: $550,0...</td>\n",
       "    </tr>\n",
       "    <tr>\n",
       "      <th>1</th>\n",
       "      <td>Westchester Estates</td>\n",
       "      <td>$750,000</td>\n",
       "      <td>4</td>\n",
       "      <td>3.0</td>\n",
       "      <td>2,500 sqft</td>\n",
       "      <td>Neighborhood: Westchester Estates\\nPrice: $750...</td>\n",
       "    </tr>\n",
       "    <tr>\n",
       "      <th>2</th>\n",
       "      <td>Park Slope</td>\n",
       "      <td>$1,200,000</td>\n",
       "      <td>3</td>\n",
       "      <td>2.5</td>\n",
       "      <td>2,000 sqft</td>\n",
       "      <td>Neighborhood: Park Slope\\nPrice: $1,200,000\\nB...</td>\n",
       "    </tr>\n",
       "    <tr>\n",
       "      <th>3</th>\n",
       "      <td>Green Hills</td>\n",
       "      <td>$800,000</td>\n",
       "      <td>4</td>\n",
       "      <td>3.0</td>\n",
       "      <td>2,500 sqft</td>\n",
       "      <td>Neighborhood: Green Hills\\nPrice: $800,000\\nBe...</td>\n",
       "    </tr>\n",
       "    <tr>\n",
       "      <th>4</th>\n",
       "      <td>Willow Creek</td>\n",
       "      <td>$550,000</td>\n",
       "      <td>4</td>\n",
       "      <td>3.0</td>\n",
       "      <td>2,500 sqft</td>\n",
       "      <td>Neighborhood: Willow Creek\\nPrice: $550,000\\nB...</td>\n",
       "    </tr>\n",
       "  </tbody>\n",
       "</table>\n",
       "</div>"
      ],
      "text/plain": [
       "          Neighborhood       Price  Bedrooms  Bathrooms  House Size  \\\n",
       "0    Pinecrest Estates    $550,000         4        3.0  2,500 sqft   \n",
       "1  Westchester Estates    $750,000         4        3.0  2,500 sqft   \n",
       "2           Park Slope  $1,200,000         3        2.5  2,000 sqft   \n",
       "3          Green Hills    $800,000         4        3.0  2,500 sqft   \n",
       "4         Willow Creek    $550,000         4        3.0  2,500 sqft   \n",
       "\n",
       "                                           full_text  \n",
       "0  Neighborhood: Pinecrest Estates\\nPrice: $550,0...  \n",
       "1  Neighborhood: Westchester Estates\\nPrice: $750...  \n",
       "2  Neighborhood: Park Slope\\nPrice: $1,200,000\\nB...  \n",
       "3  Neighborhood: Green Hills\\nPrice: $800,000\\nBe...  \n",
       "4  Neighborhood: Willow Creek\\nPrice: $550,000\\nB...  "
      ]
     },
     "execution_count": 3,
     "metadata": {},
     "output_type": "execute_result"
    }
   ],
   "source": [
    "df = pd.read_csv(\"./real_estate_listings.csv\")\n",
    "\n",
    "# Combine key columns into a single document\n",
    "df[\"full_text\"] = (\n",
    "    \"Neighborhood: \" + df[\"Neighborhood\"] + \"\\n\" +\n",
    "    \"Price: \" + df[\"Price\"].astype(str) + \"\\n\" +\n",
    "    \"Bedrooms: \" + df[\"Bedrooms\"].astype(str) + \"\\n\" +\n",
    "    \"Bathrooms: \" + df[\"Bathrooms\"].astype(str) + \"\\n\" +\n",
    "    \"Size: \" + df[\"House Size\"] + \"\\n\" +\n",
    "    df[\"Description\"] + \"\\n\" +\n",
    "    df[\"Neighborhood Description\"]\n",
    ")\n",
    "\n",
    "df[[\"Neighborhood\", \"Price\", \"Bedrooms\", \"Bathrooms\", \"House Size\", \"full_text\"]].head()"
   ]
  },
  {
   "cell_type": "markdown",
   "id": "4fed000f",
   "metadata": {},
   "source": [
    "## 🔍 Step 3: Initialize ChromaDB and Embedding Function\n",
    "\n",
    "We use OpenAI’s `text-embedding-ada-002` model via ChromaDB for fast vector-based search."
   ]
  },
  {
   "cell_type": "code",
   "execution_count": 4,
   "id": "57a56ae9",
   "metadata": {},
   "outputs": [
    {
     "name": "stderr",
     "output_type": "stream",
     "text": [
      "INFO:chromadb.telemetry.posthog:Anonymized telemetry enabled. See https://docs.trychroma.com/telemetry for more information.\n"
     ]
    }
   ],
   "source": [
    "embedding_fn = embedding_functions.OpenAIEmbeddingFunction(\n",
    "    api_key=os.environ[\"OPENAI_API_KEY\"],\n",
    "    api_base=os.environ[\"OPENAI_API_BASE\"],\n",
    "    model_name=\"text-embedding-ada-002\"\n",
    ")\n",
    "\n",
    "chroma_client = chromadb.Client()\n",
    "collection = chroma_client.create_collection(name=\"real_estate\", embedding_function=embedding_fn)"
   ]
  },
  {
   "cell_type": "markdown",
   "id": "21a7833f",
   "metadata": {},
   "source": [
    "## 🧠 Step 4: Add Documents to Vector Store\n",
    "\n",
    "We embed each listing’s full description and store it in ChromaDB for similarity-based retrieval."
   ]
  },
  {
   "cell_type": "code",
   "execution_count": 5,
   "id": "f8df6ce9",
   "metadata": {},
   "outputs": [
    {
     "name": "stderr",
     "output_type": "stream",
     "text": [
      "INFO:__main__:Embeddings added to ChromaDB.\n"
     ]
    }
   ],
   "source": [
    "for idx, row in df.iterrows():\n",
    "    collection.add(\n",
    "        documents=[row[\"full_text\"]],\n",
    "        metadatas=[{\n",
    "            \"Neighborhood\": row[\"Neighborhood\"],\n",
    "            \"Price\": row[\"Price\"],\n",
    "            \"Bedrooms\": row[\"Bedrooms\"],\n",
    "            \"Bathrooms\": row[\"Bathrooms\"],\n",
    "            \"Size\": row[\"House Size\"]\n",
    "        }],\n",
    "        ids=[str(idx)]\n",
    "    )\n",
    "\n",
    "logger.info(\"Embeddings added to ChromaDB.\")"
   ]
  },
  {
   "cell_type": "markdown",
   "id": "68718bca",
   "metadata": {},
   "source": [
    "## ❓ Step 5: Ask Natural Language Questions\n",
    "\n",
    "We'll now query ChromaDB using natural language questions."
   ]
  },
  {
   "cell_type": "code",
   "execution_count": 6,
   "id": "53c5bb0f",
   "metadata": {},
   "outputs": [
    {
     "name": "stderr",
     "output_type": "stream",
     "text": [
      "INFO:__main__:\n",
      "QUESTION: Which neighborhoods have 4-bedroom homes under $600,000?\n",
      "INFO:__main__:Answer 1:\n",
      "Neighborhood: Green Hills\n",
      "Price: $800,000\n",
      "Bedrooms: 4\n",
      "Bathrooms: 3.0\n",
      "Size: 2,500 sqft\n",
      "Welcome to this beautiful 4-bedroom, 3-bathroom home located in the sought-after Green Hills neighborhood. This updated property features a spacious living area with hardwood floors, a modern kitchen with stainless steel appliances, and a cozy fireplace in the family room. The master suite offers a large walk-in closet and a luxurious en-suite bathroom. Outside, the backyard is perfect for entertaining with a patio and lush landscaping. \n",
      "Green Hills is known for its upscale residential homes, top-rated schools, and proximity to trendy shopping, dining, and entertainment options. Residents enjoy the convenience of the nearby Green Hills Mall, restaurants, and parks. This family-friendly neighborhood also boasts tree-lined streets and a sense of community, making it a desirable place to call home.\n",
      "Metadata: {'Bathrooms': 3.0, 'Bedrooms': 4, 'Neighborhood': 'Green Hills', 'Price': '$800,000', 'Size': '2,500 sqft'}\n",
      "\n",
      "INFO:__main__:Answer 2:\n",
      "Neighborhood: Westchester Estates\n",
      "Price: $750,000\n",
      "Bedrooms: 4\n",
      "Bathrooms: 3.0\n",
      "Size: 2,500 sqft\n",
      "This stunning 4-bedroom, 3-bathroom home is located in the prestigious Westchester Estates neighborhood. The house boasts an open concept floor plan with a spacious living room, a gourmet kitchen with stainless steel appliances, and a cozy breakfast nook. The master bedroom features a walk-in closet and a luxurious en-suite bathroom with a soaking tub and separate shower. The three additional bedrooms are generously sized, offering plenty of space for a growing family or guests. The backyard is perfect for entertaining with a large patio and lush landscaping. Other highlights include a formal dining room, a home office, and a 2-car garage. \n",
      "Westchester Estates is known for its upscale, family-friendly atmosphere and well-maintained properties. The neighborhood is conveniently located near top-rated schools, shopping centers, restaurants, and recreational facilities. Residents enjoy easy access to parks, walking trails, and community events. With its tree-lined streets and sense of community, Westchester Estates is the ideal place to call home.\n",
      "Metadata: {'Bathrooms': 3.0, 'Bedrooms': 4, 'Neighborhood': 'Westchester Estates', 'Price': '$750,000', 'Size': '2,500 sqft'}\n",
      "\n",
      "INFO:__main__:Answer 3:\n",
      "Neighborhood: Oakwood Estates\n",
      "Price: $500,000\n",
      "Bedrooms: 4\n",
      "Bathrooms: 3.0\n",
      "Size: 2,500 sqft\n",
      "Welcome to this charming 4-bedroom, 3-bathroom home located in the desirable Oakwood Estates neighborhood. This beautifully maintained property features a spacious living room with a cozy fireplace, a formal dining area, a gourmet kitchen with granite countertops and stainless steel appliances, and a master suite with a luxurious en-suite bathroom. The backyard oasis boasts a covered patio, perfect for outdoor entertaining, and a lush lawn with mature landscaping. Additional highlights include a two-car garage, hardwood floors throughout, and plenty of natural light. \n",
      "Oakwood Estates is a tranquil and family-friendly neighborhood known for its tree-lined streets and well-maintained homes. Residents enjoy easy access to nearby parks, shopping centers, restaurants, and top-rated schools. With its peaceful surroundings and close-knit community atmosphere, Oakwood Estates is the perfect place to call home.\n",
      "Metadata: {'Bathrooms': 3.0, 'Bedrooms': 4, 'Neighborhood': 'Oakwood Estates', 'Price': '$500,000', 'Size': '2,500 sqft'}\n",
      "\n",
      "INFO:__main__:\n",
      "QUESTION: Tell me about homes in Park Slope.\n",
      "INFO:__main__:Answer 1:\n",
      "Neighborhood: Park Slope\n",
      "Price: $1,200,000\n",
      "Bedrooms: 3\n",
      "Bathrooms: 2.5\n",
      "Size: 2,000 sqft\n",
      "This charming brownstone in the heart of Park Slope is a perfect blend of classic details and modern updates. The main floor features a spacious living room with a decorative fireplace, a formal dining room, and a renovated kitchen with stainless steel appliances and granite countertops. Upstairs, you'll find three bedrooms, including a master suite with a private bathroom. The finished basement offers additional living space and a laundry room. Outside, the backyard is a tranquil oasis with a deck for outdoor dining and a garden for relaxing. \n",
      "Park Slope is known for its tree-lined streets, historic townhouses, and vibrant community. Residents enjoy easy access to Prospect Park, where they can take a leisurely stroll, go for a run, or enjoy various outdoor activities. The neighborhood is also home to a diverse array of restaurants, cafes, and boutiques, making it a highly desirable place to live in Brooklyn. With excellent schools and convenient transportation options, Park Slope is a sought-after destination for families and professionals alike.\n",
      "Metadata: {'Bathrooms': 2.5, 'Bedrooms': 3, 'Neighborhood': 'Park Slope', 'Price': '$1,200,000', 'Size': '2,000 sqft'}\n",
      "\n",
      "INFO:__main__:Answer 2:\n",
      "Neighborhood: Upper East Side\n",
      "Price: $1,500,000\n",
      "Bedrooms: 3\n",
      "Bathrooms: 2.5\n",
      "Size: 2,000 sqft\n",
      "Welcome to this stunning 3-bedroom, 2.5-bathroom home in the prestigious Upper East Side neighborhood. This spacious apartment features a large living room with hardwood floors, a gourmet kitchen with stainless steel appliances, and a master bedroom with an en-suite bathroom. The other two bedrooms are generously sized and share a full bathroom. The apartment also includes a washer/dryer, plenty of closet space, and central air conditioning. \n",
      "The Upper East Side is known for its luxury residences, elegant townhouses, and upscale dining and shopping. It is a sought-after neighborhood with a mix of historic charm and modern amenities. Residents enjoy access to Central Park, Museum Mile, and top-rated schools. With convenient access to public transportation and a vibrant cultural scene, the Upper East Side offers a sophisticated lifestyle in the heart of Manhattan.\n",
      "Metadata: {'Bathrooms': 2.5, 'Bedrooms': 3, 'Neighborhood': 'Upper East Side', 'Price': '$1,500,000', 'Size': '2,000 sqft'}\n",
      "\n",
      "INFO:__main__:Answer 3:\n",
      "Neighborhood: Oak Park\n",
      "Price: $650,000\n",
      "Bedrooms: 3\n",
      "Bathrooms: 2.0\n",
      "Size: 2,000 sqft\n",
      "Welcome to this charming 3-bedroom, 2-bathroom home located in the desirable Oak Park neighborhood. This meticulously maintained property features a spacious living room with a cozy fireplace, a sunlit dining area, and a beautifully updated kitchen with stainless steel appliances and granite countertops. The master bedroom offers a walk-in closet and an en-suite bathroom with a dual vanity. The backyard is perfect for entertaining with a patio area and lush landscaping. Additionally, this home includes a 2-car garage and a separate laundry room. \n",
      "Oak Park is known for its family-friendly atmosphere, top-rated schools, and proximity to parks and hiking trails. Residents enjoy easy access to shopping centers, restaurants, and entertainment options. With tree-lined streets and a strong sense of community, Oak Park is a perfect place to call home.\n",
      "Metadata: {'Bathrooms': 2.0, 'Bedrooms': 3, 'Neighborhood': 'Oak Park', 'Price': '$650,000', 'Size': '2,000 sqft'}\n",
      "\n",
      "INFO:__main__:\n",
      "QUESTION: Are there any listings with at least 3 bathrooms?\n",
      "INFO:__main__:Answer 1:\n",
      "Neighborhood: Green Hills\n",
      "Price: $800,000\n",
      "Bedrooms: 4\n",
      "Bathrooms: 3.0\n",
      "Size: 2,500 sqft\n",
      "Welcome to this beautiful 4-bedroom, 3-bathroom home located in the sought-after Green Hills neighborhood. This updated property features a spacious living area with hardwood floors, a modern kitchen with stainless steel appliances, and a cozy fireplace in the family room. The master suite offers a large walk-in closet and a luxurious en-suite bathroom. Outside, the backyard is perfect for entertaining with a patio and lush landscaping. \n",
      "Green Hills is known for its upscale residential homes, top-rated schools, and proximity to trendy shopping, dining, and entertainment options. Residents enjoy the convenience of the nearby Green Hills Mall, restaurants, and parks. This family-friendly neighborhood also boasts tree-lined streets and a sense of community, making it a desirable place to call home.\n",
      "Metadata: {'Bathrooms': 3.0, 'Bedrooms': 4, 'Neighborhood': 'Green Hills', 'Price': '$800,000', 'Size': '2,500 sqft'}\n",
      "\n"
     ]
    },
    {
     "name": "stderr",
     "output_type": "stream",
     "text": [
      "INFO:__main__:Answer 2:\n",
      "Neighborhood: Oak Park\n",
      "Price: $650,000\n",
      "Bedrooms: 3\n",
      "Bathrooms: 2.0\n",
      "Size: 2,000 sqft\n",
      "Welcome to this charming 3-bedroom, 2-bathroom home located in the desirable Oak Park neighborhood. This meticulously maintained property features a spacious living room with a cozy fireplace, a sunlit dining area, and a beautifully updated kitchen with stainless steel appliances and granite countertops. The master bedroom offers a walk-in closet and an en-suite bathroom with a dual vanity. The backyard is perfect for entertaining with a patio area and lush landscaping. Additionally, this home includes a 2-car garage and a separate laundry room. \n",
      "Oak Park is known for its family-friendly atmosphere, top-rated schools, and proximity to parks and hiking trails. Residents enjoy easy access to shopping centers, restaurants, and entertainment options. With tree-lined streets and a strong sense of community, Oak Park is a perfect place to call home.\n",
      "Metadata: {'Bathrooms': 2.0, 'Bedrooms': 3, 'Neighborhood': 'Oak Park', 'Price': '$650,000', 'Size': '2,000 sqft'}\n",
      "\n",
      "INFO:__main__:Answer 3:\n",
      "Neighborhood: Upper East Side\n",
      "Price: $1,500,000\n",
      "Bedrooms: 3\n",
      "Bathrooms: 2.5\n",
      "Size: 2,000 sqft\n",
      "Welcome to this stunning 3-bedroom, 2.5-bathroom home in the prestigious Upper East Side neighborhood. This spacious apartment features a large living room with hardwood floors, a gourmet kitchen with stainless steel appliances, and a master bedroom with an en-suite bathroom. The other two bedrooms are generously sized and share a full bathroom. The apartment also includes a washer/dryer, plenty of closet space, and central air conditioning. \n",
      "The Upper East Side is known for its luxury residences, elegant townhouses, and upscale dining and shopping. It is a sought-after neighborhood with a mix of historic charm and modern amenities. Residents enjoy access to Central Park, Museum Mile, and top-rated schools. With convenient access to public transportation and a vibrant cultural scene, the Upper East Side offers a sophisticated lifestyle in the heart of Manhattan.\n",
      "Metadata: {'Bathrooms': 2.5, 'Bedrooms': 3, 'Neighborhood': 'Upper East Side', 'Price': '$1,500,000', 'Size': '2,000 sqft'}\n",
      "\n",
      "INFO:__main__:\n",
      "QUESTION: Which neighborhood is best for families?\n",
      "INFO:__main__:Answer 1:\n",
      "Neighborhood: Green Hills\n",
      "Price: $800,000\n",
      "Bedrooms: 4\n",
      "Bathrooms: 3.0\n",
      "Size: 2,500 sqft\n",
      "Welcome to this beautiful 4-bedroom, 3-bathroom home located in the sought-after Green Hills neighborhood. This updated property features a spacious living area with hardwood floors, a modern kitchen with stainless steel appliances, and a cozy fireplace in the family room. The master suite offers a large walk-in closet and a luxurious en-suite bathroom. Outside, the backyard is perfect for entertaining with a patio and lush landscaping. \n",
      "Green Hills is known for its upscale residential homes, top-rated schools, and proximity to trendy shopping, dining, and entertainment options. Residents enjoy the convenience of the nearby Green Hills Mall, restaurants, and parks. This family-friendly neighborhood also boasts tree-lined streets and a sense of community, making it a desirable place to call home.\n",
      "Metadata: {'Bathrooms': 3.0, 'Bedrooms': 4, 'Neighborhood': 'Green Hills', 'Price': '$800,000', 'Size': '2,500 sqft'}\n",
      "\n",
      "INFO:__main__:Answer 2:\n",
      "Neighborhood: Maplewood\n",
      "Price: $500,000\n",
      "Bedrooms: 3\n",
      "Bathrooms: 2.0\n",
      "Size: 2,000 sqft\n",
      "Welcome to this charming 3-bedroom, 2-bathroom home located in the desirable Maplewood neighborhood. This well-maintained property features a spacious living room with a cozy fireplace, a modern kitchen with stainless steel appliances, and a dining area that opens up to a lovely backyard with a patio, perfect for outdoor entertaining. The master bedroom boasts an en-suite bathroom and ample closet space. The two additional bedrooms are perfect for guests or a home office. Other highlights include hardwood floors throughout, a two-car garage, and a beautifully landscaped front yard. \n",
      "Maplewood is known for its tree-lined streets, friendly community vibe, and convenient location. Residents enjoy easy access to parks, shopping centers, restaurants, and top-rated schools. With close proximity to major highways, commuting to downtown areas or other parts of the city is a breeze. This neighborhood is perfect for families, young professionals, and anyone looking for a peaceful yet vibrant place to call home.\n",
      "Metadata: {'Bathrooms': 2.0, 'Bedrooms': 3, 'Neighborhood': 'Maplewood', 'Price': '$500,000', 'Size': '2,000 sqft'}\n",
      "\n",
      "INFO:__main__:Answer 3:\n",
      "Neighborhood: Park Slope\n",
      "Price: $1,200,000\n",
      "Bedrooms: 3\n",
      "Bathrooms: 2.5\n",
      "Size: 2,000 sqft\n",
      "This charming brownstone in the heart of Park Slope is a perfect blend of classic details and modern updates. The main floor features a spacious living room with a decorative fireplace, a formal dining room, and a renovated kitchen with stainless steel appliances and granite countertops. Upstairs, you'll find three bedrooms, including a master suite with a private bathroom. The finished basement offers additional living space and a laundry room. Outside, the backyard is a tranquil oasis with a deck for outdoor dining and a garden for relaxing. \n",
      "Park Slope is known for its tree-lined streets, historic townhouses, and vibrant community. Residents enjoy easy access to Prospect Park, where they can take a leisurely stroll, go for a run, or enjoy various outdoor activities. The neighborhood is also home to a diverse array of restaurants, cafes, and boutiques, making it a highly desirable place to live in Brooklyn. With excellent schools and convenient transportation options, Park Slope is a sought-after destination for families and professionals alike.\n",
      "Metadata: {'Bathrooms': 2.5, 'Bedrooms': 3, 'Neighborhood': 'Park Slope', 'Price': '$1,200,000', 'Size': '2,000 sqft'}\n",
      "\n"
     ]
    }
   ],
   "source": [
    "questions = [\n",
    "    \"Which neighborhoods have 4-bedroom homes under $600,000?\",\n",
    "    \"Tell me about homes in Park Slope.\",\n",
    "    \"Are there any listings with at least 3 bathrooms?\",\n",
    "    \"Which neighborhood is best for families?\"\n",
    "]\n",
    "\n",
    "for question in questions:\n",
    "    logger.info(f\"\\nQUESTION: {question}\")\n",
    "    results = collection.query(query_texts=[question], n_results=3)\n",
    "    for i, doc in enumerate(results[\"documents\"][0]):\n",
    "        meta = results[\"metadatas\"][0][i]\n",
    "        logger.info(f\"Answer {i+1}:\\n{doc}\\nMetadata: {meta}\\n\")"
   ]
  },
  {
   "cell_type": "markdown",
   "id": "667bc845",
   "metadata": {},
   "source": [
    "## ✅ Summary\n",
    "\n",
    "- Loaded listings from CSV\n",
    "- Embedded using OpenAI Embeddings\n",
    "- Stored in ChromaDB\n",
    "- Queried using natural language\n",
    "\n",
    "You can extend this with filters, a chatbot UI (e.g. Streamlit), or even ranking results by user preferences."
   ]
  }
 ],
 "metadata": {
  "kernelspec": {
   "display_name": "Python 3 (ipykernel)",
   "language": "python",
   "name": "python3"
  },
  "language_info": {
   "codemirror_mode": {
    "name": "ipython",
    "version": 3
   },
   "file_extension": ".py",
   "mimetype": "text/x-python",
   "name": "python",
   "nbconvert_exporter": "python",
   "pygments_lexer": "ipython3",
   "version": "3.10.11"
  }
 },
 "nbformat": 4,
 "nbformat_minor": 5
}
